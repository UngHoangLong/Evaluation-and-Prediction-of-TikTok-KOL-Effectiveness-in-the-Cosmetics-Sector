{
 "cells": [
  {
   "cell_type": "code",
   "execution_count": 1,
   "id": "6cb4a2f0",
   "metadata": {},
   "outputs": [],
   "source": [
    "from apify_client import ApifyClient\n",
    "import json\n",
    "import pandas as pd\n",
    "import numpy as np\n",
    "from tqdm import tqdm\n",
    "import time\n",
    "import random\n",
    "import os\n",
    "import logging\n",
    "from dotenv import load_dotenv, find_dotenv # For loading .env file"
   ]
  },
  {
   "cell_type": "code",
   "execution_count": 2,
   "id": "9c898b66",
   "metadata": {},
   "outputs": [],
   "source": [
    "# Cấu hình logging\n",
    "logging.basicConfig(\n",
    "    level=logging.INFO,\n",
    "    format='%(asctime)s - %(levelname)s - %(message)s',\n",
    "    filename='app.log',\n",
    "    filemode='a'\n",
    ")\n",
    "logger = logging.getLogger()"
   ]
  },
  {
   "cell_type": "code",
   "execution_count": null,
   "id": "500ca8dc",
   "metadata": {},
   "outputs": [],
   "source": [
    "# Load .env\n",
    "if load_dotenv(find_dotenv('secret.env')):\n",
    "    logger.info(\"✅ Loaded environment variables from secret.env\")\n",
    "else:\n",
    "    logger.warning(\"⚠️ Could not find secret.env, using current environment variables\")\n",
    "\n",
    "# Lấy danh sách tất cả API KEY\n",
    "API_KEYS = [\n",
    "    os.getenv(\"API_APIFY_1\"),\n",
    "    os.getenv(\"API_APIFY_2\"),\n",
    "    os.getenv(\"API_APIFY_3\"),\n",
    "    os.getenv(\"API_APIFY_4\"),\n",
    "    os.getenv(\"API_APIFY_5\"),\n",
    "    os.getenv(\"API_APIFY_6\"),\n",
    "    os.getenv(\"API_APIFY_7\"),\n",
    "    os.getenv(\"API_APIFY_8\"),\n",
    "    os.getenv(\"API_APIFY_9\"),\n",
    "    os.getenv(\"API_APIFY_10\"),\n",
    "    os.getenv(\"API_APIFY_11\"),\n",
    "    os.getenv(\"API_APIFY_12\"),\n",
    "    os.getenv(\"API_APIFY_13\"),\n",
    "    os.getenv(\"API_APIFY_14\"),\n",
    "    os.getenv(\"API_APIFY_15\"),\n",
    "    os.getenv(\"API_APIFY_16\")\n",
    "]"
   ]
  },
  {
   "cell_type": "code",
   "execution_count": 21,
   "id": "988ee521",
   "metadata": {},
   "outputs": [],
   "source": [
    "# Tạo danh sách username\n",
    "list_kol = pd.read_excel('List_KOL_final.xlsx', sheet_name='Sheet1')\n",
    "# Lọc DataFrame để chỉ lấy các hàng mà cột 'error' không phải là null\n",
    "kol_with_errors = list_kol[list_kol['error'].notna()]\n",
    "\n",
    "kol_usernames = kol_with_errors[\"name\"].tolist()"
   ]
  },
  {
   "cell_type": "code",
   "execution_count": 22,
   "id": "0157906b",
   "metadata": {},
   "outputs": [
    {
     "name": "stdout",
     "output_type": "stream",
     "text": [
      "<class 'pandas.core.frame.DataFrame'>\n",
      "RangeIndex: 86 entries, 0 to 85\n",
      "Data columns (total 4 columns):\n",
      " #   Column       Non-Null Count  Dtype \n",
      "---  ------       --------------  ----- \n",
      " 0   name         86 non-null     object\n",
      " 1   link         86 non-null     object\n",
      " 2   error        2 non-null      object\n",
      " 3   deleted_kol  4 non-null      object\n",
      "dtypes: object(4)\n",
      "memory usage: 2.8+ KB\n"
     ]
    }
   ],
   "source": [
    "list_kol.info()"
   ]
  },
  {
   "cell_type": "code",
   "execution_count": 23,
   "id": "fc045c91",
   "metadata": {},
   "outputs": [
    {
     "data": {
      "text/plain": [
       "['huynhanhthu_cosmetic', 'phuonglytran']"
      ]
     },
     "execution_count": 23,
     "metadata": {},
     "output_type": "execute_result"
    }
   ],
   "source": [
    "kol_usernames"
   ]
  },
  {
   "cell_type": "code",
   "execution_count": null,
   "id": "65fdef62",
   "metadata": {},
   "outputs": [
    {
     "name": "stderr",
     "output_type": "stream",
     "text": [
      "Crawling TikTok KOLs: 100%|██████████| 2/2 [01:39<00:00, 49.94s/user]"
     ]
    },
    {
     "name": "stdout",
     "output_type": "stream",
     "text": [
      "🏁 Hoàn tất crawling tất cả KOL.\n"
     ]
    },
    {
     "name": "stderr",
     "output_type": "stream",
     "text": [
      "\n"
     ]
    }
   ],
   "source": [
    "# Cấu hình mặc định\n",
    "base_input = {\n",
    "    \"excludePinnedPosts\": True,\n",
    "    \"maxProfilesPerQuery\": 1,\n",
    "    \"oldestPostDateUnified\": \"2024-01-01T00:00:00.000Z\",\n",
    "    \"profileScrapeSections\": [\"videos\"],\n",
    "    \"profileSorting\": \"latest\",\n",
    "    \"resultsPerPage\": 700,\n",
    "    \"scrapeFollowers\": False,\n",
    "    \"scrapeFollowing\": False,\n",
    "    \"scrapeUserStats\": True,\n",
    "    \"shouldDownloadAvatars\": False,\n",
    "    \"shouldDownloadCovers\": False,\n",
    "    \"shouldDownloadMusicCovers\": False,\n",
    "    \"shouldDownloadSlideshowImages\": False,\n",
    "    \"shouldDownloadSubtitles\": False,\n",
    "    \"shouldDownloadVideos\": False\n",
    "}\n",
    "\n",
    "# Hàm gọi actor với nhiều API_KEY\n",
    "def call_with_fallback(api_keys, run_input):\n",
    "    for key in api_keys:\n",
    "        client = ApifyClient(key)\n",
    "        try:\n",
    "            run = client.actor(\"clockworks/tiktok-profile-scraper\").call(run_input=run_input)\n",
    "            dataset_items = list(client.dataset(run[\"defaultDatasetId\"]).iterate_items())\n",
    "            logger.info(f\"✅ Success with API key ending in {key[-4:]}\")\n",
    "            return dataset_items, key  # Trả về dữ liệu và key thành công\n",
    "        except Exception as e:\n",
    "            logger.error(f\"❌ API key ending in {key[-4:]} failed: {e}\")\n",
    "    raise Exception(\"❌ All API keys failed\")\n",
    "\n",
    "# Crawl từng KOL có tiến độ\n",
    "for username in tqdm(kol_usernames, desc=\"Crawling TikTok KOLs\", unit=\"user\"):\n",
    "    logger.info(f\"🚀 Bắt đầu crawl: {username}\")\n",
    "    run_input = base_input.copy()\n",
    "    run_input[\"profiles\"] = [username]\n",
    "\n",
    "    try:\n",
    "        dataset_items, success_key = call_with_fallback(API_KEYS, run_input)\n",
    "\n",
    "        # Gắn username vào từng bài\n",
    "        for item in dataset_items:\n",
    "            item[\"kol_username\"] = username\n",
    "\n",
    "        output_file = f\"{username}.json\"\n",
    "        with open(output_file, \"w\", encoding=\"utf-8\") as f:\n",
    "            json.dump(dataset_items, f, ensure_ascii=False, indent=2)\n",
    "\n",
    "        logger.info(f\"✅ Crawl thành công: {username} | {len(dataset_items)} item(s) | Key: ...{success_key[-4:]}\")\n",
    "        logger.info(f\"📁 Đã lưu file: {output_file}\")\n",
    "\n",
    "    except Exception as final_error:\n",
    "        logger.error(f\"❌ Lỗi hoàn toàn với {username}: {final_error}\")\n",
    "        continue\n",
    "\n",
    "print(\"🏁 Hoàn tất crawling tất cả KOL.\")"
   ]
  },
  {
   "cell_type": "code",
   "execution_count": null,
   "id": "86916ffa",
   "metadata": {},
   "outputs": [
    {
     "name": "stdout",
     "output_type": "stream",
     "text": [
      "Đã cào đến hoangminhngoc21, người số 21\n"
     ]
    }
   ],
   "source": [
    "print('Đã cào đến hoangminhngoc21, người số 21')"
   ]
  }
 ],
 "metadata": {
  "kernelspec": {
   "display_name": "venv",
   "language": "python",
   "name": "python3"
  },
  "language_info": {
   "codemirror_mode": {
    "name": "ipython",
    "version": 3
   },
   "file_extension": ".py",
   "mimetype": "text/x-python",
   "name": "python",
   "nbconvert_exporter": "python",
   "pygments_lexer": "ipython3",
   "version": "3.13.2"
  }
 },
 "nbformat": 4,
 "nbformat_minor": 5
}
